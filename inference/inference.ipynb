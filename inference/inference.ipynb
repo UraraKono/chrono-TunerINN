{
 "cells": [
  {
   "cell_type": "code",
   "execution_count": 1,
   "metadata": {},
   "outputs": [],
   "source": [
    "import os\n",
    "import sys\n",
    "sys.path.append(\"../\")\n",
    "import matplotlib.pyplot as plt\n",
    "import numpy as np\n",
    "from utils.utils import DataProcessor, ConfigJSON, Logger\n",
    "import utils.utils as utils\n",
    "import utils.jax_utils as jax_utils\n",
    "from trainer_jax import Trainer\n",
    "import flax.training.train_state as flax_TrainState\n",
    "import jax\n",
    "import optax\n",
    "from flax import linen as nn\n",
    "from jax import random\n",
    "import jax.numpy as jnp\n",
    "from functools import partial\n",
    "import distrax\n",
    "\n",
    "\n",
    "CUDANUM = 0\n",
    "os.environ[\"XLA_PYTHON_CLIENT_PREALLOCATE\"] = \"false\"\n",
    "os.environ[\"CUDA_VISIBLE_DEVICES\"] = str(CUDANUM)\n",
    "\n",
    "\n",
    "from models.nsf import NeuralSplineFlow"
   ]
  },
  {
   "cell_type": "code",
   "execution_count": 11,
   "metadata": {},
   "outputs": [],
   "source": [
    "EXP_NAME = '23_jax_snf_f5_v18_t02_4layer_moresteer2'\n",
    "CONTINUE_TRAINING = 0\n",
    "\n",
    "class Config(ConfigJSON):\n",
    "    exp_name = EXP_NAME\n",
    "    savedir = '/home/lucerna/MEGA/Reasearch/tuner_inn/tuner_inn/results/' + EXP_NAME + '/'\n",
    "    # datadir = '/media/lucerna/DATA/tuner_inn/fric3_rand_acc4_t02/'\n",
    "    datadir = '/home/lucerna/Documents/DATA/tuner_inn/track39/'\n",
    "    test_datadir = '/home/lucerna/Documents/DATA/tuner_inn/fric3_rand_test/'\n",
    "    train_segment = 2\n",
    "    latent_size = 1\n",
    "    pe_level = 3\n",
    "    batchsize = 2000\n",
    "    lr = 5e-4\n",
    "    test_period = 10\n",
    "    n_dim = 3 * 1 * 2\n",
    "    n_context = 6 * 3 * 2\n",
    "    n_sample = 100\n",
    "    pre_mode = False\n",
    "    \n",
    "    hidden_dims = [128, 128]\n",
    "    n_transforms = 4\n",
    "    n_bins = 3\n",
    "    \n",
    "os.environ[\"XLA_PYTHON_CLIENT_PREALLOCATE\"] = \"false\"\n",
    "os.environ[\"CUDA_VISIBLE_DEVICES\"] = str(CUDANUM)\n",
    "\n",
    "config = Config()"
   ]
  },
  {
   "cell_type": "code",
   "execution_count": 12,
   "metadata": {},
   "outputs": [
    {
     "name": "stdout",
     "output_type": "stream",
     "text": [
      "test_states (37232, 4)\n",
      "(37232, 36)\n",
      "(37232, 6)\n"
     ]
    }
   ],
   "source": [
    "data = np.load(config.datadir + 'train_data_f5.npz')\n",
    "test_states = np.asarray(data['train_states'])[0, :, 0, :]\n",
    "test_controls = np.asarray(data['train_controls'])[0, :, 1, :]\n",
    "test_dynamics = np.asarray(data['train_dynamics'])[0, :, 0, :]\n",
    "print('test_states', test_states.shape)\n",
    "\n",
    "pe = jax_utils.PositionalEncoding_jax(3)\n",
    "pe1 = jax_utils.PositionalEncoding_jax(1)\n",
    "c = ConfigJSON()\n",
    "dp = DataProcessor()\n",
    "c.load_file(config.savedir + 'config.json')\n",
    "normalization_param = np.array(c.d['normalization_param']).T\n",
    "dyna_normalization_param = normalization_param[:, 4:7]\n",
    "\n",
    "# test_states = dp.de_normalize(test_states, normalization_param[:, 0:4])\n",
    "# test_controls = dp.de_normalize(test_controls, normalization_param[:, 7:9])\n",
    "# test_dynamics = dp.de_normalize(test_dynamics, normalization_param[:, 4:7])\n",
    "\n",
    "test_states = dp.runtime_normalize(test_states, normalization_param[:, 0:4])\n",
    "test_controls = dp.runtime_normalize(test_controls, normalization_param[:, 7:9])\n",
    "test_dynamics = dp.runtime_normalize(test_dynamics, normalization_param[:, 4:7])\n",
    "\n",
    "test_data = jnp.concatenate([test_states, test_controls, test_dynamics], axis=1)\n",
    "test_context = pe.batch_encode(test_data[:, :6])\n",
    "test_dyna = pe1.batch_encode(test_data[:, 6:9])\n",
    "print(test_context.shape)\n",
    "print(test_dyna.shape)"
   ]
  },
  {
   "cell_type": "code",
   "execution_count": 13,
   "metadata": {},
   "outputs": [
    {
     "name": "stdout",
     "output_type": "stream",
     "text": [
      "(2000, 6) (2000, 36)\n"
     ]
    }
   ],
   "source": [
    "jrng = jax_utils.oneLineJaxRNG(0)\n",
    "test_perms = jax_utils.generate_perms(jrng.new_key(), test_states.shape[0], config.batchsize)\n",
    "model = NeuralSplineFlow(n_dim=config.n_dim, n_context=config.n_context, \n",
    "                                hidden_dims=config.hidden_dims, \n",
    "                                n_transforms=config.n_transforms, activation=\"relu\", \n",
    "                                n_bins=config.n_bins)\n",
    "\n",
    "x_init = jnp.zeros((config.batchsize, config.n_dim))\n",
    "x_context = jnp.zeros((config.batchsize, config.n_context))\n",
    "dist = distrax.MultivariateNormalDiag(jnp.zeros(6), jnp.ones(6)/5)\n",
    "\n",
    "print(x_init.shape, x_context.shape)\n",
    "params = model.init(jrng.new_key(), x_init, x_context)\n",
    "def model_merit_fn(info):\n",
    "    return info[1]\n"
   ]
  },
  {
   "cell_type": "code",
   "execution_count": 14,
   "metadata": {},
   "outputs": [
    {
     "name": "stdout",
     "output_type": "stream",
     "text": [
      "Load from model:  /home/lucerna/MEGA/Reasearch/tuner_inn/tuner_inn/results/23_jax_snf_f5_v18_t02_4layer_moresteer2/23_jax_snf_f5_v18_t02_4layer_moresteer2_model_last\n",
      "[3000.            -37.308199046     0.0437317854    0.0639790073\n",
      "    0.126660423     0.              0.              0.          ]\n"
     ]
    }
   ],
   "source": [
    "flax_train_state = flax_TrainState.TrainState.create(\n",
    "        apply_fn=model.apply,\n",
    "        params=params,\n",
    "        tx=optax.chain(optax.clip_by_global_norm(8), \n",
    "                       optax.adam(learning_rate=config.lr)),\n",
    "    )\n",
    "\n",
    "\n",
    "@jax.jit\n",
    "def test_step(state, rng_key, context):\n",
    "    context_batch = context[None, :, :].repeat(config.n_sample, 0).reshape(-1, context.shape[-1])\n",
    "    z = dist.sample(seed=rng_key, sample_shape=(context_batch.shape[0],))\n",
    "    samples = model.apply(state.params, z, context_batch, method=model.sample)\n",
    "    samples = pe.batch_decode2(samples)\n",
    "    samples = samples.reshape(config.n_sample, -1, samples.shape[-1])\n",
    "    samples_mean = samples.mean(axis=0)\n",
    "    return samples_mean, samples\n",
    "\n",
    "epoch_info = np.zeros(5)\n",
    "trainer = Trainer(EXP_NAME, config.savedir,\n",
    "                    max_epoch=500, best_fn=model_merit_fn,\n",
    "                    info_template=epoch_info, initial_lr=config.lr)\n",
    "# path = '/home/lucerna/Documents/DATA/results/23_0_jax_maf/23_0_jax_maf_model_best'\n",
    "flax_train_state, epoch_info = trainer.load_state(flax_train_state, epoch_info, save_name='last')\n",
    "print(epoch_info)\n",
    "# params = flax_train_state.params\n",
    "np.set_printoptions(suppress=True, precision=10)"
   ]
  },
  {
   "cell_type": "code",
   "execution_count": 15,
   "metadata": {},
   "outputs": [
    {
     "name": "stdout",
     "output_type": "stream",
     "text": [
      "[0.012773251 0.066453435 0.05304775 ]\n"
     ]
    }
   ],
   "source": [
    "test_perms = jax_utils.generate_perms(jrng.new_key(), test_states.shape[0], config.batchsize)\n",
    "for perm in test_perms:\n",
    "    perm = perm[:400]\n",
    "    break\n",
    "# params = flax_train_state.params\n",
    "# print(train_dynamics[ind])\n",
    "config.n_sample = 10\n",
    "ind = np.random.randint(0, perm.shape[0])\n",
    "# dist = distrax.MultivariateNormalDiag(jnp.zeros(6), jnp.ones(6))\n",
    "samples_mean, samples = test_step(flax_train_state, jrng.new_key(), test_context[perm, :])\n",
    "denormalized_samples = dp.de_normalize(samples_mean, dyna_normalization_param)\n",
    "# print(samples_mean - test_dynamics[perm, :])\n",
    "denormalized_train_dyna = dp.de_normalize(test_dynamics[perm], dyna_normalization_param)\n",
    "error = jnp.abs(denormalized_samples - denormalized_train_dyna).mean(axis=0)\n",
    "# error = jnp.abs(samples_mean - test_dynamics[perm]).mean(axis=0)\n",
    "print(error)\n",
    "# context_batch = test_context[perm, :][None, :, :].repeat(n_sample, 0).reshape(-1, test_context.shape[-1])\n",
    "# z = dist.sample(seed=jrng.new_key(), sample_shape=(context_batch.shape[0],))\n",
    "# samples = model.apply(params, z, context_batch, method=model.sample)\n",
    "# samples = pe.batch_decode2(samples)\n",
    "# samples = samples.reshape(n_sample, -1, samples.shape[-1])\n",
    "# samples_mean = samples.mean(axis=0)"
   ]
  },
  {
   "cell_type": "code",
   "execution_count": null,
   "metadata": {},
   "outputs": [],
   "source": []
  },
  {
   "cell_type": "code",
   "execution_count": 19,
   "metadata": {},
   "outputs": [
    {
     "name": "stdout",
     "output_type": "stream",
     "text": [
      "0.053287655\n",
      "-0.0042929947\n",
      "0.053287655\n"
     ]
    },
    {
     "data": {
      "image/png": "[encoded data removed]",
      "text/plain": [
       "<Figure size 864x432 with 3 Axes>"
      ]
     },
     "metadata": {
      "needs_background": "light"
     },
     "output_type": "display_data"
    }
   ],
   "source": [
    "from matplotlib.gridspec import GridSpec\n",
    "fig = plt.figure(figsize=(12, 6))\n",
    "gs = GridSpec(1, 3)\n",
    "inds = np.array([[0, 1], [1, 2], [0, 2]], dtype=int)\n",
    "ind = np.random.randint(0, perm.shape[0])\n",
    "for ind2 in range(3):\n",
    "    print(samples_mean[ind, inds[ind2, 0]] - test_dynamics[perm[ind], inds[ind2, 0]])\n",
    "    ax = fig.add_subplot(gs[ind2])\n",
    "    ax.plot(samples[:, ind, inds[ind2, 0]], samples[:, ind, inds[ind2, 1]], '.', markersize=1)\n",
    "    ax.plot(samples_mean[ind, inds[ind2, 0]], samples_mean[ind, inds[ind2, 1]], '.m', markersize=10)\n",
    "    ax.plot(test_dynamics[perm[ind], inds[ind2, 0]], test_dynamics[perm[ind], inds[ind2, 1]], '.r', markersize=5)\n",
    "    # Add text to the upper right\n",
    "    ax.text(0.95, 0.95, \"dimention\" + str(inds[ind2, 0]) + str(inds[ind2, 1]),\n",
    "            verticalalignment='top', horizontalalignment='right',\n",
    "            transform=ax.transAxes, color='black')\n",
    "    \n",
    "    # Set x and y limits\n",
    "    # ax.set_xlim(0 ,1)\n",
    "    # ax.set_ylim(0, 1)\n",
    "\n",
    "    # Turn off the tick labels\n",
    "    # ax.set_xticks([])\n",
    "    # ax.set_yticks([])\n",
    "\n",
    "plt.tight_layout()\n"
   ]
  },
  {
   "cell_type": "code",
   "execution_count": null,
   "metadata": {},
   "outputs": [],
   "source": []
  },
  {
   "cell_type": "code",
   "execution_count": null,
   "metadata": {},
   "outputs": [],
   "source": []
  }
 ],
 "metadata": {
  "kernelspec": {
   "display_name": "base",
   "language": "python",
   "name": "python3"
  },
  "language_info": {
   "codemirror_mode": {
    "name": "ipython",
    "version": 3
   },
   "file_extension": ".py",
   "mimetype": "text/x-python",
   "name": "python",
   "nbconvert_exporter": "python",
   "pygments_lexer": "ipython3",
   "version": "3.8.5"
  }
 },
 "nbformat": 4,
 "nbformat_minor": 2
}
